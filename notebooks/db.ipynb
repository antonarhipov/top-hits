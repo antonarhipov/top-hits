{
 "cells": [
  {
   "metadata": {
    "ExecuteTime": {
     "end_time": "2025-07-22T20:32:18.520536Z",
     "start_time": "2025-07-22T20:32:18.216595Z"
    }
   },
   "cell_type": "code",
   "source": [
    "val name = \"Anton\"\n",
    "fun greeting(name: String) = \"hello, $name\"\n",
    "println(greeting(name))"
   ],
   "outputs": [
    {
     "name": "stdout",
     "output_type": "stream",
     "text": [
      "hello, Anton\n"
     ]
    }
   ],
   "execution_count": 1
  },
  {
   "metadata": {
    "ExecuteTime": {
     "end_time": "2025-07-22T20:32:24.665653Z",
     "start_time": "2025-07-22T20:32:23.777394Z"
    }
   },
   "cell_type": "code",
   "source": [
    "USE {\n",
    "    dependencies {\n",
    "        implementation(\"org.springframework:spring-jdbc:6.1.4\")\n",
    "        implementation(\"org.postgresql:postgresql:42.5.4\")\n",
    "    }\n",
    "}"
   ],
   "outputs": [],
   "execution_count": 2
  },
  {
   "metadata": {
    "ExecuteTime": {
     "end_time": "2025-07-22T20:36:51.223670Z",
     "start_time": "2025-07-22T20:36:51.038004Z"
    }
   },
   "cell_type": "code",
   "source": [
    "import org.springframework.jdbc.core.JdbcTemplate\n",
    "import org.springframework.jdbc.datasource.DriverManagerDataSource\n",
    "\n",
    "val dataSource = DriverManagerDataSource().apply {\n",
    "    setDriverClassName(\"org.postgresql.Driver\")\n",
    "    url = \"jdbc:postgresql://localhost:5432/mydatabase\"\n",
    "    username = \"myuser\"\n",
    "    password = \"secret\"\n",
    "}\n",
    "\n",
    "val jdbc = JdbcTemplate(dataSource)"
   ],
   "outputs": [],
   "execution_count": 10
  },
  {
   "metadata": {
    "ExecuteTime": {
     "end_time": "2025-07-22T23:08:15.135771Z",
     "start_time": "2025-07-22T23:08:14.626954Z"
    }
   },
   "cell_type": "code",
   "source": [
    "import java.io.File\n",
    "\n",
    "val ids = File(\"../logs/spring.log\")\n",
    "    .readLines()\n",
    "    .mapNotNull { line ->\n",
    "        \"Loaded track with ID: (\\\\d+)\".toRegex().find(line)?.groupValues?.get(1)?.toLong()\n",
    "    }\n",
    "\n",
    "val arrayIds = ids.map { id -> arrayOf<Any>(id) }\n",
    "val updated = jdbc.batchUpdate(\"delete from tracks where id = ?\", arrayIds)\n",
    "println(\"Deleted \" + updated.count { it == 1 })\n"
   ],
   "outputs": [
    {
     "name": "stdout",
     "output_type": "stream",
     "text": [
      "Deleted 953\n"
     ]
    }
   ],
   "execution_count": 26
  },
  {
   "metadata": {
    "ExecuteTime": {
     "end_time": "2025-07-22T23:44:22.962677Z",
     "start_time": "2025-07-22T23:44:22.863652Z"
    }
   },
   "cell_type": "code",
   "source": "jdbc.update (\"truncate table tracks\")",
   "outputs": [
    {
     "data": {
      "text/plain": [
       "0"
      ]
     },
     "execution_count": 28,
     "metadata": {},
     "output_type": "execute_result"
    }
   ],
   "execution_count": 28
  },
  {
   "metadata": {},
   "cell_type": "code",
   "outputs": [],
   "execution_count": null,
   "source": ""
  }
 ],
 "metadata": {
  "kernelspec": {
   "display_name": "Kotlin",
   "language": "kotlin",
   "name": "kotlin"
  },
  "language_info": {
   "name": "kotlin",
   "version": "2.2.20-dev-4982",
   "mimetype": "text/x-kotlin",
   "file_extension": ".kt",
   "pygments_lexer": "kotlin",
   "codemirror_mode": "text/x-kotlin",
   "nbconvert_exporter": ""
  }
 },
 "nbformat": 4,
 "nbformat_minor": 0
}
