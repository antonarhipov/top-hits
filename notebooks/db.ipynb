{
 "cells": [
  {
   "metadata": {
    "ExecuteTime": {
     "end_time": "2025-07-22T08:07:11.117045Z",
     "start_time": "2025-07-22T08:07:10.916971Z"
    }
   },
   "cell_type": "code",
   "source": "println(\"hello\")",
   "outputs": [
    {
     "name": "stdout",
     "output_type": "stream",
     "text": [
      "hello\n"
     ]
    }
   ],
   "execution_count": 1
  },
  {
   "metadata": {
    "ExecuteTime": {
     "end_time": "2025-07-22T08:07:12.119297Z",
     "start_time": "2025-07-22T08:07:11.142955Z"
    }
   },
   "cell_type": "code",
   "source": [
    "USE {\n",
    "    dependencies {\n",
    "        implementation(\"org.springframework:spring-jdbc:6.1.4\")\n",
    "        implementation(\"org.postgresql:postgresql:42.5.4\")\n",
    "    }\n",
    "}\n"
   ],
   "outputs": [],
   "execution_count": 2
  },
  {
   "metadata": {
    "ExecuteTime": {
     "end_time": "2025-07-22T08:07:14.401753Z",
     "start_time": "2025-07-22T08:07:12.876034Z"
    }
   },
   "cell_type": "code",
   "source": [
    "\n",
    "import org.springframework.jdbc.core.JdbcTemplate\n",
    "import org.springframework.jdbc.datasource.DriverManagerDataSource\n",
    "\n",
    "val dataSource = DriverManagerDataSource().apply {\n",
    "    setDriverClassName(\"org.postgresql.Driver\")\n",
    "    url = \"jdbc:postgresql://localhost:5432/mydatabase\"\n",
    "    username = \"myuser\"\n",
    "    password = \"secret\"\n",
    "}\n",
    "\n",
    "val jdbcTemplate = JdbcTemplate(dataSource)\n",
    "\n",
    "val testData = listOf(\n",
    "    Pair(1, \"Test message 1\"),\n",
    "    Pair(2, \"Test message 2\"),\n",
    "    Pair(3, \"Test message 3\")\n",
    ")\n",
    "\n",
    "testData.forEach { (id, message) ->\n",
    "    jdbcTemplate.update(\n",
    "        \"INSERT INTO mytable (id, message) VALUES (?, ?)\",\n",
    "        id, message\n",
    "    )\n",
    "}\n",
    "\n",
    "println(\"Test data inserted successfully\")\n"
   ],
   "outputs": [
    {
     "name": "stdout",
     "output_type": "stream",
     "text": [
      "Test data inserted successfully\n"
     ]
    }
   ],
   "execution_count": 3
  },
  {
   "metadata": {},
   "cell_type": "code",
   "outputs": [],
   "execution_count": null,
   "source": ""
  }
 ],
 "metadata": {
  "kernelspec": {
   "display_name": "Kotlin",
   "language": "kotlin",
   "name": "kotlin"
  },
  "language_info": {
   "name": "kotlin",
   "version": "2.2.20-dev-4982",
   "mimetype": "text/x-kotlin",
   "file_extension": ".kt",
   "pygments_lexer": "kotlin",
   "codemirror_mode": "text/x-kotlin",
   "nbconvert_exporter": ""
  }
 },
 "nbformat": 4,
 "nbformat_minor": 0
}
